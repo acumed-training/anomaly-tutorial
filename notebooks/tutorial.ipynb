{
 "cells": [
  {
   "cell_type": "markdown",
   "metadata": {
    "slideshow": {
     "slide_type": "slide"
    }
   },
   "source": [
    "# Building a realtime anomaly detector\n",
    "\n",
    "###  By: Peter Tillotson [( Acumed Consulting Ltd )](https://acumedconsulting.com)\n",
    "\n",
    "\n",
    "| Part | Learning Objectives |\n",
    "| ---- | :----------------- |\n",
    "| 1 | Setting up your dev environment and getting some data to work with |\n",
    "| 2 | Learning to read and process data |\n",
    "| 3 | Simple linear regression, building stats based detectors | \n",
    "| 4 | Understanding seaonality |\n",
    "\n",
    "\n",
    "At the end of the season you should have built a realtime detector."
   ]
  },
  {
   "cell_type": "markdown",
   "metadata": {
    "slideshow": {
     "slide_type": "slide"
    }
   },
   "source": [
    "## About me\n",
    "\n",
    " - Lead data analyst at Riot Games\n",
    " - Pasionate about Gaming Analytics\n",
    " - Set up and run the London Gaming Analytics Meetup\n",
    " - Have done a bunch of Security work too\n",
    " - Learning to play drums\n",
    " - PhD Distributed intelligent agents\n",
    " - 20yrs experience R&D making things fast\n"
   ]
  },
  {
   "cell_type": "markdown",
   "metadata": {
    "slideshow": {
     "slide_type": "slide"
    }
   },
   "source": [
    "# Part 1\n",
    "\n",
    "> Develpment environment setup\n",
    "\n",
    "tl;dr:\n",
    " - Create a virtual environment for our project\n",
    " - Install all the project dependencies\n",
    " - Pull down and extract some data to play with"
   ]
  },
  {
   "cell_type": "markdown",
   "metadata": {
    "slideshow": {
     "slide_type": "subslide"
    }
   },
   "source": [
    "## A note on Python versions\n",
    "\n",
    "**Always Python 3+** These days I would recommend Python 3.6 and above. \n",
    "\n",
    "Python 2.7 persists because its used in quite a few Linux distros to manage \n",
    "packages, OS scripts etc. \n",
    "\n",
    "If you can use Python 3 do so, occasionally there is a package that does not \n",
    "support Python 3, it is rare these day and may be because its not maintained \n",
    "or there alternatives that have superceded in 3.\n",
    "\n",
    "> tl;dr we need to let go of 2.7"
   ]
  },
  {
   "cell_type": "markdown",
   "metadata": {
    "slideshow": {
     "slide_type": "subslide"
    }
   },
   "source": [
    "### Virtual Environments\n",
    "\n",
    "Are clean Python virtual install, they are actually simlinks to your \n",
    "main Python install, but they don't have any installed packages. This \n",
    "means when working on lots of projects fewer dependency conflicts. \n",
    "\n",
    "```bash\n",
    "base> pip install virtualenv\n",
    "base> virtualenv -p python3 venv      \n",
    "base> source venv/bin/activate\n",
    "venv> pip install -r requirements.txt\n",
    "```\n",
    "\n",
    "On Windows I would advise the Anaconda install of Python generally, some \n",
    "things are easier with this install. It has a built in version to.\n",
    "\n",
    "https://towardsdatascience.com/getting-started-with-python-environments-using-conda-32e9f2779307\n",
    "\n",
    "I prefer virtualenv, as I work on Mac, Linux and Windows.  \n",
    "\n",
    "On Windows the activate is `.\\venv\\Scripts\\activate.bat`"
   ]
  },
  {
   "cell_type": "markdown",
   "metadata": {
    "slideshow": {
     "slide_type": "subslide"
    }
   },
   "source": [
    "### Project Dependencies\n",
    "\n",
    "The convention is for Python projects to have a `requirements.txt` in \n",
    "there base directory, often alongside a `distutils` `setup.py` file. \n",
    "You can specify packages your project depend on in this file, or \n",
    "you can.\n",
    "\n",
    "```\n",
    "venv> pip install pandas jupyter scipy\n",
    "venv> pip freeze > requirements.txt\n",
    "```\n",
    "\n",
    "Which creates the requirements file from currently installed packages. \n",
    "\n",
    "These can be installed with\n",
    "\n",
    "```\n",
    "venv> pip install -r requirements.txt\n",
    "```\n",
    "\n",
    "Follow this link to download my requirements.txt file. "
   ]
  },
  {
   "cell_type": "markdown",
   "metadata": {
    "slideshow": {
     "slide_type": "subslide"
    }
   },
   "source": [
    "### **Excercise 1a** \n",
    "\n",
    "Todo:\n",
    " - Create a new project directory, change into it\n",
    " - Get your virtualenv created pointing to a Python3 install\n",
    " - Switch into your new virtual environment \n",
    " - Download and install the requirements in you virtual env\n",
    " \n",
    "### **Excercise 1b**\n",
    "\n",
    "Todo:\n",
    " - Create two folders in your project `data` and `notebooks`\n",
    " - Get data: https://github.com/numenta/NAB/archive/v1.0.zip\n",
    "   - If you raced through the last bit get data programatically\n",
    "   - Else download manually and unpack into data"
   ]
  },
  {
   "cell_type": "code",
   "execution_count": 1,
   "metadata": {
    "slideshow": {
     "slide_type": "subslide"
    }
   },
   "outputs": [
    {
     "name": "stdout",
     "output_type": "stream",
     "text": [
      "data already pulled\n"
     ]
    }
   ],
   "source": [
    "import requests, zipfile, io, os, glob, shutil\n",
    "\n",
    "from os.path import exists, join, split\n",
    "\n",
    "prefix = 'NAB-1.0/data'\n",
    "data_dir = '../data'\n",
    "fd_done = 'success.txt'\n",
    "\n",
    "if exists( join(data_dir, fd_done) ) == False:\n",
    "    if exists(data_dir) == False:\n",
    "        os.mkdir(data_dir)\n",
    "\n",
    "    url = 'https://github.com/numenta/NAB/archive/v1.0.zip'\n",
    "    r = requests.get(url)\n",
    "\n",
    "    with zipfile.ZipFile(io.BytesIO(r.content)) as z:\n",
    "        for n in z.namelist():\n",
    "            if n.startswith(prefix) and n.endswith('csv'):\n",
    "                z.extract(n, path=data_dir)\n",
    "\n",
    "    path = join(data_dir, prefix, '*')\n",
    "    for n in glob.glob(path):\n",
    "        head, tail = split(n)\n",
    "        new_path = join(data_dir, tail)\n",
    "        shutil.move(n, new_path)\n",
    "    head, tail = split(join(data_dir, prefix))\n",
    "    shutil.rmtree(head)\n",
    "    with open(join(data_dir, fd_done), 'w') as fd:\n",
    "        fd.write('done')\n",
    "else:\n",
    "    print('data already pulled')"
   ]
  },
  {
   "cell_type": "markdown",
   "metadata": {
    "slideshow": {
     "slide_type": "subslide"
    }
   },
   "source": [
    "We did it \n",
    "\n",
    "<img src='./static/200w_d.gif' width='400'/>"
   ]
  },
  {
   "cell_type": "markdown",
   "metadata": {
    "slideshow": {
     "slide_type": "slide"
    }
   },
   "source": [
    "# Part 2\n",
    "\n",
    "> Read and process data\n",
    "\n",
    "tl;dr:\n",
    " - Read data with Python Pandas\n",
    " - Simple plot with Matplotlib and Plotly\n",
    " - Interpolate and \n",
    " - Resample"
   ]
  },
  {
   "cell_type": "code",
   "execution_count": 2,
   "metadata": {
    "slideshow": {
     "slide_type": "subslide"
    }
   },
   "outputs": [
    {
     "data": {
      "text/html": [
       "<div>\n",
       "<style scoped>\n",
       "    .dataframe tbody tr th:only-of-type {\n",
       "        vertical-align: middle;\n",
       "    }\n",
       "\n",
       "    .dataframe tbody tr th {\n",
       "        vertical-align: top;\n",
       "    }\n",
       "\n",
       "    .dataframe thead th {\n",
       "        text-align: right;\n",
       "    }\n",
       "</style>\n",
       "<table border=\"1\" class=\"dataframe\">\n",
       "  <thead>\n",
       "    <tr style=\"text-align: right;\">\n",
       "      <th></th>\n",
       "      <th>value</th>\n",
       "    </tr>\n",
       "    <tr>\n",
       "      <th>timestamp</th>\n",
       "      <th></th>\n",
       "    </tr>\n",
       "  </thead>\n",
       "  <tbody>\n",
       "    <tr>\n",
       "      <td>2015-02-26 21:42:53</td>\n",
       "      <td>35</td>\n",
       "    </tr>\n",
       "    <tr>\n",
       "      <td>2015-02-26 21:47:53</td>\n",
       "      <td>41</td>\n",
       "    </tr>\n",
       "    <tr>\n",
       "      <td>2015-02-26 21:52:53</td>\n",
       "      <td>32</td>\n",
       "    </tr>\n",
       "    <tr>\n",
       "      <td>2015-02-26 21:57:53</td>\n",
       "      <td>36</td>\n",
       "    </tr>\n",
       "    <tr>\n",
       "      <td>2015-02-26 22:02:53</td>\n",
       "      <td>32</td>\n",
       "    </tr>\n",
       "  </tbody>\n",
       "</table>\n",
       "</div>"
      ],
      "text/plain": [
       "                     value\n",
       "timestamp                 \n",
       "2015-02-26 21:42:53     35\n",
       "2015-02-26 21:47:53     41\n",
       "2015-02-26 21:52:53     32\n",
       "2015-02-26 21:57:53     36\n",
       "2015-02-26 22:02:53     32"
      ]
     },
     "execution_count": 2,
     "metadata": {},
     "output_type": "execute_result"
    }
   ],
   "source": [
    "import pandas as pd\n",
    "\n",
    "# timestamp,value\n",
    "# 2015-02-26 21:42:53,35\n",
    "# 2015-02-26 21:47:53,41\n",
    "# 2015-02-26 21:52:53,32\n",
    "# 2015-02-26 21:57:53,36\n",
    "# 2015-02-26 22:02:53,32\n",
    "\n",
    "df = pd.read_csv('../data/realTweets/Twitter_volume_GOOG.csv', \n",
    "    index_col=0, \n",
    "    parse_dates=True\n",
    ")\n",
    "df.head(5)"
   ]
  },
  {
   "cell_type": "code",
   "execution_count": 3,
   "metadata": {
    "slideshow": {
     "slide_type": "subslide"
    }
   },
   "outputs": [
    {
     "data": {
      "text/plain": [
       "<matplotlib.axes._subplots.AxesSubplot at 0x11ba770b8>"
      ]
     },
     "execution_count": 3,
     "metadata": {},
     "output_type": "execute_result"
    },
    {
     "data": {
      "image/png": "[encoded data removed]",
      "text/plain": [
       "<Figure size 432x288 with 1 Axes>"
      ]
     },
     "metadata": {
      "needs_background": "light"
     },
     "output_type": "display_data"
    }
   ],
   "source": [
    "import matplotlib\n",
    "%matplotlib inline\n",
    "\n",
    "df.tail(200).plot()"
   ]
  },
  {
   "cell_type": "code",
   "execution_count": 4,
   "metadata": {
    "slideshow": {
     "slide_type": "subslide"
    }
   },
   "outputs": [
    {
     "data": {
      "text/plain": [
       "<matplotlib.axes._subplots.AxesSubplot at 0x11dec4be0>"
      ]
     },
     "execution_count": 4,
     "metadata": {},
     "output_type": "execute_result"
    },
    {
     "data": {
      "image/png": "[encoded data removed]",
      "text/plain": [
       "<Figure size 864x576 with 1 Axes>"
      ]
     },
     "metadata": {},
     "output_type": "display_data"
    }
   ],
   "source": [
    "matplotlib.rcParams['figure.figsize'] = (12.0, 8.0)\n",
    "matplotlib.style.use('ggplot')\n",
    "df.tail(200).plot()"
   ]
  },
  {
   "cell_type": "code",
   "execution_count": 14,
   "metadata": {
    "slideshow": {
     "slide_type": "subslide"
    }
   },
   "outputs": [
    {
     "data": {
      "application/vnd.plotly.v1+json": {
       "config": {
        "displaylogo": false,
        "plotlyServerURL": "https://plot.ly"
       },
       "data": [
        {
         "mode": "lines",
         "type": "scatter",
         "x": [
          "2015-04-22T05:12:53",
          "2015-04-22T05:17:53",
          "2015-04-22T05:22:53",
          "2015-04-22T05:27:53",
          "2015-04-22T05:32:53",
          "2015-04-22T05:37:53",
          "2015-04-22T05:42:53",
          "2015-04-22T05:47:53",
          "2015-04-22T05:52:53",
          "2015-04-22T05:57:53",
          "2015-04-22T06:02:53",
          "2015-04-22T06:07:53",
          "2015-04-22T06:12:53",
          "2015-04-22T06:17:53",
          "2015-04-22T06:22:53",
          "2015-04-22T06:27:53",
          "2015-04-22T06:32:53",
          "2015-04-22T06:37:53",
          "2015-04-22T06:42:53",
          "2015-04-22T06:47:53",
          "2015-04-22T06:52:53",
          "2015-04-22T06:57:53",
          "2015-04-22T07:02:53",
          "2015-04-22T07:07:53",
          "2015-04-22T07:12:53",
          "2015-04-22T07:17:53",
          "2015-04-22T07:22:53",
          "2015-04-22T07:27:53",
          "2015-04-22T07:32:53",
          "2015-04-22T07:37:53",
          "2015-04-22T07:42:53",
          "2015-04-22T07:47:53",
          "2015-04-22T07:52:53",
          "2015-04-22T07:57:53",
          "2015-04-22T08:02:53",
          "2015-04-22T08:07:53",
          "2015-04-22T08:12:53",
          "2015-04-22T08:17:53",
          "2015-04-22T08:22:53",
          "2015-04-22T08:27:53",
          "2015-04-22T08:32:53",
          "2015-04-22T08:37:53",
          "2015-04-22T08:42:53",
          "2015-04-22T08:47:53",
          "2015-04-22T08:52:53",
          "2015-04-22T08:57:53",
          "2015-04-22T09:02:53",
          "2015-04-22T09:07:53",
          "2015-04-22T09:12:53",
          "2015-04-22T09:17:53",
          "2015-04-22T09:22:53",
          "2015-04-22T09:27:53",
          "2015-04-22T09:32:53",
          "2015-04-22T09:37:53",
          "2015-04-22T09:42:53",
          "2015-04-22T09:47:53",
          "2015-04-22T09:52:53",
          "2015-04-22T09:57:53",
          "2015-04-22T10:02:53",
          "2015-04-22T10:07:53",
          "2015-04-22T10:12:53",
          "2015-04-22T10:17:53",
          "2015-04-22T10:22:53",
          "2015-04-22T10:27:53",
          "2015-04-22T10:32:53",
          "2015-04-22T10:37:53",
          "2015-04-22T10:42:53",
          "2015-04-22T10:47:53",
          "2015-04-22T10:52:53",
          "2015-04-22T10:57:53",
          "2015-04-22T11:02:53",
          "2015-04-22T11:07:53",
          "2015-04-22T11:12:53",
          "2015-04-22T11:17:53",
          "2015-04-22T11:22:53",
          "2015-04-22T11:27:53",
          "2015-04-22T11:32:53",
          "2015-04-22T11:37:53",
          "2015-04-22T11:42:53",
          "2015-04-22T11:47:53",
          "2015-04-22T11:52:53",
          "2015-04-22T11:57:53",
          "2015-04-22T12:02:53",
          "2015-04-22T12:07:53",
          "2015-04-22T12:12:53",
          "2015-04-22T12:17:53",
          "2015-04-22T12:22:53",
          "2015-04-22T12:27:53",
          "2015-04-22T12:32:53",
          "2015-04-22T12:37:53",
          "2015-04-22T12:42:53",
          "2015-04-22T12:47:53",
          "2015-04-22T12:52:53",
          "2015-04-22T12:57:53",
          "2015-04-22T13:02:53",
          "2015-04-22T13:07:53",
          "2015-04-22T13:12:53",
          "2015-04-22T13:17:53",
          "2015-04-22T13:22:53",
          "2015-04-22T13:27:53",
          "2015-04-22T13:32:53",
          "2015-04-22T13:37:53",
          "2015-04-22T13:42:53",
          "2015-04-22T13:47:53",
          "2015-04-22T13:52:53",
          "2015-04-22T13:57:53",
          "2015-04-22T14:02:53",
          "2015-04-22T14:07:53",
          "2015-04-22T14:12:53",
          "2015-04-22T14:17:53",
          "2015-04-22T14:22:53",
          "2015-04-22T14:27:53",
          "2015-04-22T14:32:53",
          "2015-04-22T14:37:53",
          "2015-04-22T14:42:53",
          "2015-04-22T14:47:53",
          "2015-04-22T14:52:53",
          "2015-04-22T14:57:53",
          "2015-04-22T15:02:53",
          "2015-04-22T15:07:53",
          "2015-04-22T15:12:53",
          "2015-04-22T15:17:53",
          "2015-04-22T15:22:53",
          "2015-04-22T15:27:53",
          "2015-04-22T15:32:53",
          "2015-04-22T15:37:53",
          "2015-04-22T15:42:53",
          "2015-04-22T15:47:53",
          "2015-04-22T15:52:53",
          "2015-04-22T15:57:53",
          "2015-04-22T16:02:53",
          "2015-04-22T16:07:53",
          "2015-04-22T16:12:53",
          "2015-04-22T16:17:53",
          "2015-04-22T16:22:53",
          "2015-04-22T16:27:53",
          "2015-04-22T16:32:53",
          "2015-04-22T16:37:53",
          "2015-04-22T16:42:53",
          "2015-04-22T16:47:53",
          "2015-04-22T16:52:53",
          "2015-04-22T16:57:53",
          "2015-04-22T17:02:53",
          "2015-04-22T17:07:53",
          "2015-04-22T17:12:53",
          "2015-04-22T17:17:53",
          "2015-04-22T17:22:53",
          "2015-04-22T17:27:53",
          "2015-04-22T17:32:53",
          "2015-04-22T17:37:53",
          "2015-04-22T17:42:53",
          "2015-04-22T17:47:53",
          "2015-04-22T17:52:53",
          "2015-04-22T17:57:53",
          "2015-04-22T18:02:53",
          "2015-04-22T18:07:53",
          "2015-04-22T18:12:53",
          "2015-04-22T18:17:53",
          "2015-04-22T18:22:53",
          "2015-04-22T18:27:53",
          "2015-04-22T18:32:53",
          "2015-04-22T18:37:53",
          "2015-04-22T18:42:53",
          "2015-04-22T18:47:53",
          "2015-04-22T18:52:53",
          "2015-04-22T18:57:53",
          "2015-04-22T19:02:53",
          "2015-04-22T19:07:53",
          "2015-04-22T19:12:53",
          "2015-04-22T19:17:53",
          "2015-04-22T19:22:53",
          "2015-04-22T19:27:53",
          "2015-04-22T19:32:53",
          "2015-04-22T19:37:53",
          "2015-04-22T19:42:53",
          "2015-04-22T19:47:53",
          "2015-04-22T19:52:53",
          "2015-04-22T19:57:53",
          "2015-04-22T20:02:53",
          "2015-04-22T20:07:53",
          "2015-04-22T20:12:53",
          "2015-04-22T20:17:53",
          "2015-04-22T20:22:53",
          "2015-04-22T20:27:53",
          "2015-04-22T20:32:53",
          "2015-04-22T20:37:53",
          "2015-04-22T20:42:53",
          "2015-04-22T20:47:53",
          "2015-04-22T20:52:53",
          "2015-04-22T20:57:53",
          "2015-04-22T21:02:53",
          "2015-04-22T21:07:53",
          "2015-04-22T21:12:53",
          "2015-04-22T21:17:53",
          "2015-04-22T21:22:53",
          "2015-04-22T21:27:53",
          "2015-04-22T21:32:53",
          "2015-04-22T21:37:53",
          "2015-04-22T21:42:53",
          "2015-04-22T21:47:53"
         ],
         "y": [
          32,
          39,
          22,
          41,
          22,
          23,
          37,
          23,
          34,
          29,
          23,
          28,
          30,
          21,
          28,
          18,
          10,
          24,
          21,
          26,
          21,
          22,
          37,
          29,
          26,
          28,
          25,
          19,
          26,
          26,
          18,
          16,
          26,
          24,
          29,
          40,
          28,
          39,
          26,
          35,
          24,
          31,
          26,
          28,
          28,
          30,
          41,
          31,
          28,
          23,
          32,
          23,
          30,
          18,
          40,
          21,
          26,
          30,
          27,
          29,
          34,
          31,
          39,
          39,
          31,
          37,
          30,
          29,
          24,
          36,
          38,
          41,
          27,
          21,
          33,
          36,
          33,
          44,
          37,
          26,
          31,
          50,
          45,
          131,
          127,
          39,
          30,
          42,
          38,
          40,
          36,
          58,
          31,
          47,
          46,
          35,
          47,
          53,
          57,
          51,
          42,
          42,
          48,
          39,
          38,
          62,
          134,
          30,
          31,
          54,
          29,
          116,
          59,
          65,
          69,
          68,
          42,
          65,
          72,
          73,
          72,
          62,
          56,
          71,
          67,
          55,
          148,
          127,
          88,
          107,
          73,
          73,
          73,
          83,
          62,
          59,
          43,
          55,
          66,
          45,
          48,
          65,
          36,
          53,
          53,
          65,
          64,
          77,
          74,
          67,
          85,
          89,
          89,
          87,
          139,
          111,
          106,
          77,
          98,
          107,
          94,
          87,
          64,
          71,
          98,
          102,
          68,
          59,
          58,
          50,
          61,
          70,
          60,
          60,
          61,
          52,
          51,
          67,
          106,
          86,
          61,
          62,
          54,
          54,
          57,
          58,
          65,
          59,
          52,
          50,
          61,
          56,
          59,
          57,
          62,
          58,
          50,
          32,
          72,
          72
         ]
        }
       ],
       "layout": {
        "template": {
         "data": {
          "bar": [
           {
            "error_x": {
             "color": "#2a3f5f"
            },
            "error_y": {
             "color": "#2a3f5f"
            },
            "marker": {
             "line": {
              "color": "#E5ECF6",
              "width": 0.5
             }
            },
            "type": "bar"
           }
          ],
          "barpolar": [
           {
            "marker": {
             "line": {
              "color": "#E5ECF6",
              "width": 0.5
             }
            },
            "type": "barpolar"
           }
          ],
          "carpet": [
           {
            "aaxis": {
             "endlinecolor": "#2a3f5f",
             "gridcolor": "white",
             "linecolor": "white",
             "minorgridcolor": "white",
             "startlinecolor": "#2a3f5f"
            },
            "baxis": {
             "endlinecolor": "#2a3f5f",
             "gridcolor": "white",
             "linecolor": "white",
             "minorgridcolor": "white",
             "startlinecolor": "#2a3f5f"
            },
            "type": "carpet"
           }
          ],
          "choropleth": [
           {
            "colorbar": {
             "outlinewidth": 0,
             "ticks": ""
            },
            "type": "choropleth"
           }
          ],
          "contour": [
           {
            "colorbar": {
             "outlinewidth": 0,
             "ticks": ""
            },
            "colorscale": [
             [
              0,
              "#0d0887"
             ],
             [
              0.1111111111111111,
              "#46039f"
             ],
             [
              0.2222222222222222,
              "#7201a8"
             ],
             [
              0.3333333333333333,
              "#9c179e"
             ],
             [
              0.4444444444444444,
              "#bd3786"
             ],
             [
              0.5555555555555556,
              "#d8576b"
             ],
             [
              0.6666666666666666,
              "#ed7953"
             ],
             [
              0.7777777777777778,
              "#fb9f3a"
             ],
             [
              0.8888888888888888,
              "#fdca26"
             ],
             [
              1,
              "#f0f921"
             ]
            ],
            "type": "contour"
           }
          ],
          "contourcarpet": [
           {
            "colorbar": {
             "outlinewidth": 0,
             "ticks": ""
            },
            "type": "contourcarpet"
           }
          ],
          "heatmap": [
           {
            "colorbar": {
             "outlinewidth": 0,
             "ticks": ""
            },
            "colorscale": [
             [
              0,
              "#0d0887"
             ],
             [
              0.1111111111111111,
              "#46039f"
             ],
             [
              0.2222222222222222,
              "#7201a8"
             ],
             [
              0.3333333333333333,
              "#9c179e"
             ],
             [
              0.4444444444444444,
              "#bd3786"
             ],
             [
              0.5555555555555556,
              "#d8576b"
             ],
             [
              0.6666666666666666,
              "#ed7953"
             ],
             [
              0.7777777777777778,
              "#fb9f3a"
             ],
             [
              0.8888888888888888,
              "#fdca26"
             ],
             [
              1,
              "#f0f921"
             ]
            ],
            "type": "heatmap"
           }
          ],
          "heatmapgl": [
           {
            "colorbar": {
             "outlinewidth": 0,
             "ticks": ""
            },
            "colorscale": [
             [
              0,
              "#0d0887"
             ],
             [
              0.1111111111111111,
              "#46039f"
             ],
             [
              0.2222222222222222,
              "#7201a8"
             ],
             [
              0.3333333333333333,
              "#9c179e"
             ],
             [
              0.4444444444444444,
              "#bd3786"
             ],
             [
              0.5555555555555556,
              "#d8576b"
             ],
             [
              0.6666666666666666,
              "#ed7953"
             ],
             [
              0.7777777777777778,
              "#fb9f3a"
             ],
             [
              0.8888888888888888,
              "#fdca26"
             ],
             [
              1,
              "#f0f921"
             ]
            ],
            "type": "heatmapgl"
           }
          ],
          "histogram": [
           {
            "marker": {
             "colorbar": {
              "outlinewidth": 0,
              "ticks": ""
             }
            },
            "type": "histogram"
           }
          ],
          "histogram2d": [
           {
            "colorbar": {
             "outlinewidth": 0,
             "ticks": ""
            },
            "colorscale": [
             [
              0,
              "#0d0887"
             ],
             [
              0.1111111111111111,
              "#46039f"
             ],
             [
              0.2222222222222222,
              "#7201a8"
             ],
             [
              0.3333333333333333,
              "#9c179e"
             ],
             [
              0.4444444444444444,
              "#bd3786"
             ],
             [
              0.5555555555555556,
              "#d8576b"
             ],
             [
              0.6666666666666666,
              "#ed7953"
             ],
             [
              0.7777777777777778,
              "#fb9f3a"
             ],
             [
              0.8888888888888888,
              "#fdca26"
             ],
             [
              1,
              "#f0f921"
             ]
            ],
            "type": "histogram2d"
           }
          ],
          "histogram2dcontour": [
           {
            "colorbar": {
             "outlinewidth": 0,
             "ticks": ""
            },
            "colorscale": [
             [
              0,
              "#0d0887"
             ],
             [
              0.1111111111111111,
              "#46039f"
             ],
             [
              0.2222222222222222,
              "#7201a8"
             ],
             [
              0.3333333333333333,
              "#9c179e"
             ],
             [
              0.4444444444444444,
              "#bd3786"
             ],
             [
              0.5555555555555556,
              "#d8576b"
             ],
             [
              0.6666666666666666,
              "#ed7953"
             ],
             [
              0.7777777777777778,
              "#fb9f3a"
             ],
             [
              0.8888888888888888,
              "#fdca26"
             ],
             [
              1,
              "#f0f921"
             ]
            ],
            "type": "histogram2dcontour"
           }
          ],
          "mesh3d": [
           {
            "colorbar": {
             "outlinewidth": 0,
             "ticks": ""
            },
            "type": "mesh3d"
           }
          ],
          "parcoords": [
           {
            "line": {
             "colorbar": {
              "outlinewidth": 0,
              "ticks": ""
             }
            },
            "type": "parcoords"
           }
          ],
          "scatter": [
           {
            "marker": {
             "colorbar": {
              "outlinewidth": 0,
              "ticks": ""
             }
            },
            "type": "scatter"
           }
          ],
          "scatter3d": [
           {
            "line": {
             "colorbar": {
              "outlinewidth": 0,
              "ticks": ""
             }
            },
            "marker": {
             "colorbar": {
              "outlinewidth": 0,
              "ticks": ""
             }
            },
            "type": "scatter3d"
           }
          ],
          "scattercarpet": [
           {
            "marker": {
             "colorbar": {
              "outlinewidth": 0,
              "ticks": ""
             }
            },
            "type": "scattercarpet"
           }
          ],
          "scattergeo": [
           {
            "marker": {
             "colorbar": {
              "outlinewidth": 0,
              "ticks": ""
             }
            },
            "type": "scattergeo"
           }
          ],
          "scattergl": [
           {
            "marker": {
             "colorbar": {
              "outlinewidth": 0,
              "ticks": ""
             }
            },
            "type": "scattergl"
           }
          ],
          "scattermapbox": [
           {
            "marker": {
             "colorbar": {
              "outlinewidth": 0,
              "ticks": ""
             }
            },
            "type": "scattermapbox"
           }
          ],
          "scatterpolar": [
           {
            "marker": {
             "colorbar": {
              "outlinewidth": 0,
              "ticks": ""
             }
            },
            "type": "scatterpolar"
           }
          ],
          "scatterpolargl": [
           {
            "marker": {
             "colorbar": {
              "outlinewidth": 0,
              "ticks": ""
             }
            },
            "type": "scatterpolargl"
           }
          ],
          "scatterternary": [
           {
            "marker": {
             "colorbar": {
              "outlinewidth": 0,
              "ticks": ""
             }
            },
            "type": "scatterternary"
           }
          ],
          "surface": [
           {
            "colorbar": {
             "outlinewidth": 0,
             "ticks": ""
            },
            "colorscale": [
             [
              0,
              "#0d0887"
             ],
             [
              0.1111111111111111,
              "#46039f"
             ],
             [
              0.2222222222222222,
              "#7201a8"
             ],
             [
              0.3333333333333333,
              "#9c179e"
             ],
             [
              0.4444444444444444,
              "#bd3786"
             ],
             [
              0.5555555555555556,
              "#d8576b"
             ],
             [
              0.6666666666666666,
              "#ed7953"
             ],
             [
              0.7777777777777778,
              "#fb9f3a"
             ],
             [
              0.8888888888888888,
              "#fdca26"
             ],
             [
              1,
              "#f0f921"
             ]
            ],
            "type": "surface"
           }
          ],
          "table": [
           {
            "cells": {
             "fill": {
              "color": "#EBF0F8"
             },
             "line": {
              "color": "white"
             }
            },
            "header": {
             "fill": {
              "color": "#C8D4E3"
             },
             "line": {
              "color": "white"
             }
            },
            "type": "table"
           }
          ]
         },
         "layout": {
          "annotationdefaults": {
           "arrowcolor": "#2a3f5f",
           "arrowhead": 0,
           "arrowwidth": 1
          },
          "colorscale": {
           "diverging": [
            [
             0,
             "#8e0152"
            ],
            [
             0.1,
             "#c51b7d"
            ],
            [
             0.2,
             "#de77ae"
            ],
            [
             0.3,
             "#f1b6da"
            ],
            [
             0.4,
             "#fde0ef"
            ],
            [
             0.5,
             "#f7f7f7"
            ],
            [
             0.6,
             "#e6f5d0"
            ],
            [
             0.7,
             "#b8e186"
            ],
            [
             0.8,
             "#7fbc41"
            ],
            [
             0.9,
             "#4d9221"
            ],
            [
             1,
             "#276419"
            ]
           ],
           "sequential": [
            [
             0,
             "#0d0887"
            ],
            [
             0.1111111111111111,
             "#46039f"
            ],
            [
             0.2222222222222222,
             "#7201a8"
            ],
            [
             0.3333333333333333,
             "#9c179e"
            ],
            [
             0.4444444444444444,
             "#bd3786"
            ],
            [
             0.5555555555555556,
             "#d8576b"
            ],
            [
             0.6666666666666666,
             "#ed7953"
            ],
            [
             0.7777777777777778,
             "#fb9f3a"
            ],
            [
             0.8888888888888888,
             "#fdca26"
            ],
            [
             1,
             "#f0f921"
            ]
           ],
           "sequentialminus": [
            [
             0,
             "#0d0887"
            ],
            [
             0.1111111111111111,
             "#46039f"
            ],
            [
             0.2222222222222222,
             "#7201a8"
            ],
            [
             0.3333333333333333,
             "#9c179e"
            ],
            [
             0.4444444444444444,
             "#bd3786"
            ],
            [
             0.5555555555555556,
             "#d8576b"
            ],
            [
             0.6666666666666666,
             "#ed7953"
            ],
            [
             0.7777777777777778,
             "#fb9f3a"
            ],
            [
             0.8888888888888888,
             "#fdca26"
            ],
            [
             1,
             "#f0f921"
            ]
           ]
          },
          "colorway": [
           "#636efa",
           "#EF553B",
           "#00cc96",
           "#ab63fa",
           "#FFA15A",
           "#19d3f3",
           "#FF6692",
           "#B6E880",
           "#FF97FF",
           "#FECB52"
          ],
          "font": {
           "color": "#2a3f5f"
          },
          "geo": {
           "bgcolor": "white",
           "lakecolor": "white",
           "landcolor": "#E5ECF6",
           "showlakes": true,
           "showland": true,
           "subunitcolor": "white"
          },
          "hoverlabel": {
           "align": "left"
          },
          "hovermode": "closest",
          "mapbox": {
           "style": "light"
          },
          "paper_bgcolor": "white",
          "plot_bgcolor": "#E5ECF6",
          "polar": {
           "angularaxis": {
            "gridcolor": "white",
            "linecolor": "white",
            "ticks": ""
           },
           "bgcolor": "#E5ECF6",
           "radialaxis": {
            "gridcolor": "white",
            "linecolor": "white",
            "ticks": ""
           }
          },
          "scene": {
           "xaxis": {
            "backgroundcolor": "#E5ECF6",
            "gridcolor": "white",
            "gridwidth": 2,
            "linecolor": "white",
            "showbackground": true,
            "ticks": "",
            "zerolinecolor": "white"
           },
           "yaxis": {
            "backgroundcolor": "#E5ECF6",
            "gridcolor": "white",
            "gridwidth": 2,
            "linecolor": "white",
            "showbackground": true,
            "ticks": "",
            "zerolinecolor": "white"
           },
           "zaxis": {
            "backgroundcolor": "#E5ECF6",
            "gridcolor": "white",
            "gridwidth": 2,
            "linecolor": "white",
            "showbackground": true,
            "ticks": "",
            "zerolinecolor": "white"
           }
          },
          "shapedefaults": {
           "line": {
            "color": "#2a3f5f"
           }
          },
          "ternary": {
           "aaxis": {
            "gridcolor": "white",
            "linecolor": "white",
            "ticks": ""
           },
           "baxis": {
            "gridcolor": "white",
            "linecolor": "white",
            "ticks": ""
           },
           "bgcolor": "#E5ECF6",
           "caxis": {
            "gridcolor": "white",
            "linecolor": "white",
            "ticks": ""
           }
          },
          "title": {
           "x": 0.05
          },
          "xaxis": {
           "automargin": true,
           "gridcolor": "white",
           "linecolor": "white",
           "ticks": "",
           "zerolinecolor": "white",
           "zerolinewidth": 2
          },
          "yaxis": {
           "automargin": true,
           "gridcolor": "white",
           "linecolor": "white",
           "ticks": "",
           "zerolinecolor": "white",
           "zerolinewidth": 2
          }
         }
        }
       }
      },
      "text/html": [
       "<div>\n",
       "        \n",
       "        \n",
       "            <div id=\"071d7da5-5b49-4bb0-b52b-0ea92c28b294\" class=\"plotly-graph-div\" style=\"height:525px; width:100%;\"></div>\n",
       "            <script type=\"text/javascript\">\n",
       "                require([\"plotly\"], function(Plotly) {\n",
       "                    window.PLOTLYENV=window.PLOTLYENV || {};\n",
       "                    \n",
       "                if (document.getElementById(\"071d7da5-5b49-4bb0-b52b-0ea92c28b294\")) {\n",
       "                    Plotly.newPlot(\n",
       "                        '071d7da5-5b49-4bb0-b52b-0ea92c28b294',\n",
       "                        [{\"mode\": \"lines\", \"type\": \"scatter\", \"x\": [\"2015-04-22T05:12:53\", \"2015-04-22T05:17:53\", \"2015-04-22T05:22:53\", \"2015-04-22T05:27:53\", \"2015-04-22T05:32:53\", \"2015-04-22T05:37:53\", \"2015-04-22T05:42:53\", \"2015-04-22T05:47:53\", \"2015-04-22T05:52:53\", \"2015-04-22T05:57:53\", \"2015-04-22T06:02:53\", \"2015-04-22T06:07:53\", \"2015-04-22T06:12:53\", \"2015-04-22T06:17:53\", \"2015-04-22T06:22:53\", \"2015-04-22T06:27:53\", \"2015-04-22T06:32:53\", \"2015-04-22T06:37:53\", \"2015-04-22T06:42:53\", \"2015-04-22T06:47:53\", \"2015-04-22T06:52:53\", \"2015-04-22T06:57:53\", \"2015-04-22T07:02:53\", \"2015-04-22T07:07:53\", \"2015-04-22T07:12:53\", \"2015-04-22T07:17:53\", \"2015-04-22T07:22:53\", \"2015-04-22T07:27:53\", \"2015-04-22T07:32:53\", \"2015-04-22T07:37:53\", \"2015-04-22T07:42:53\", \"2015-04-22T07:47:53\", \"2015-04-22T07:52:53\", \"2015-04-22T07:57:53\", \"2015-04-22T08:02:53\", \"2015-04-22T08:07:53\", \"2015-04-22T08:12:53\", \"2015-04-22T08:17:53\", \"2015-04-22T08:22:53\", \"2015-04-22T08:27:53\", \"2015-04-22T08:32:53\", \"2015-04-22T08:37:53\", \"2015-04-22T08:42:53\", \"2015-04-22T08:47:53\", \"2015-04-22T08:52:53\", \"2015-04-22T08:57:53\", \"2015-04-22T09:02:53\", \"2015-04-22T09:07:53\", \"2015-04-22T09:12:53\", \"2015-04-22T09:17:53\", \"2015-04-22T09:22:53\", \"2015-04-22T09:27:53\", \"2015-04-22T09:32:53\", \"2015-04-22T09:37:53\", \"2015-04-22T09:42:53\", \"2015-04-22T09:47:53\", \"2015-04-22T09:52:53\", \"2015-04-22T09:57:53\", \"2015-04-22T10:02:53\", \"2015-04-22T10:07:53\", \"2015-04-22T10:12:53\", \"2015-04-22T10:17:53\", \"2015-04-22T10:22:53\", \"2015-04-22T10:27:53\", \"2015-04-22T10:32:53\", \"2015-04-22T10:37:53\", \"2015-04-22T10:42:53\", \"2015-04-22T10:47:53\", \"2015-04-22T10:52:53\", \"2015-04-22T10:57:53\", \"2015-04-22T11:02:53\", \"2015-04-22T11:07:53\", \"2015-04-22T11:12:53\", \"2015-04-22T11:17:53\", \"2015-04-22T11:22:53\", \"2015-04-22T11:27:53\", \"2015-04-22T11:32:53\", \"2015-04-22T11:37:53\", \"2015-04-22T11:42:53\", \"2015-04-22T11:47:53\", \"2015-04-22T11:52:53\", \"2015-04-22T11:57:53\", \"2015-04-22T12:02:53\", \"2015-04-22T12:07:53\", \"2015-04-22T12:12:53\", \"2015-04-22T12:17:53\", \"2015-04-22T12:22:53\", \"2015-04-22T12:27:53\", \"2015-04-22T12:32:53\", \"2015-04-22T12:37:53\", \"2015-04-22T12:42:53\", \"2015-04-22T12:47:53\", \"2015-04-22T12:52:53\", \"2015-04-22T12:57:53\", \"2015-04-22T13:02:53\", \"2015-04-22T13:07:53\", \"2015-04-22T13:12:53\", \"2015-04-22T13:17:53\", \"2015-04-22T13:22:53\", \"2015-04-22T13:27:53\", \"2015-04-22T13:32:53\", \"2015-04-22T13:37:53\", \"2015-04-22T13:42:53\", \"2015-04-22T13:47:53\", \"2015-04-22T13:52:53\", \"2015-04-22T13:57:53\", \"2015-04-22T14:02:53\", \"2015-04-22T14:07:53\", \"2015-04-22T14:12:53\", \"2015-04-22T14:17:53\", \"2015-04-22T14:22:53\", \"2015-04-22T14:27:53\", \"2015-04-22T14:32:53\", \"2015-04-22T14:37:53\", \"2015-04-22T14:42:53\", \"2015-04-22T14:47:53\", \"2015-04-22T14:52:53\", \"2015-04-22T14:57:53\", \"2015-04-22T15:02:53\", \"2015-04-22T15:07:53\", \"2015-04-22T15:12:53\", \"2015-04-22T15:17:53\", \"2015-04-22T15:22:53\", \"2015-04-22T15:27:53\", \"2015-04-22T15:32:53\", \"2015-04-22T15:37:53\", \"2015-04-22T15:42:53\", \"2015-04-22T15:47:53\", \"2015-04-22T15:52:53\", \"2015-04-22T15:57:53\", \"2015-04-22T16:02:53\", \"2015-04-22T16:07:53\", \"2015-04-22T16:12:53\", \"2015-04-22T16:17:53\", \"2015-04-22T16:22:53\", \"2015-04-22T16:27:53\", \"2015-04-22T16:32:53\", \"2015-04-22T16:37:53\", \"2015-04-22T16:42:53\", \"2015-04-22T16:47:53\", \"2015-04-22T16:52:53\", \"2015-04-22T16:57:53\", \"2015-04-22T17:02:53\", \"2015-04-22T17:07:53\", \"2015-04-22T17:12:53\", \"2015-04-22T17:17:53\", \"2015-04-22T17:22:53\", \"2015-04-22T17:27:53\", \"2015-04-22T17:32:53\", \"2015-04-22T17:37:53\", \"2015-04-22T17:42:53\", \"2015-04-22T17:47:53\", \"2015-04-22T17:52:53\", \"2015-04-22T17:57:53\", \"2015-04-22T18:02:53\", \"2015-04-22T18:07:53\", \"2015-04-22T18:12:53\", \"2015-04-22T18:17:53\", \"2015-04-22T18:22:53\", \"2015-04-22T18:27:53\", \"2015-04-22T18:32:53\", \"2015-04-22T18:37:53\", \"2015-04-22T18:42:53\", \"2015-04-22T18:47:53\", \"2015-04-22T18:52:53\", \"2015-04-22T18:57:53\", \"2015-04-22T19:02:53\", \"2015-04-22T19:07:53\", \"2015-04-22T19:12:53\", \"2015-04-22T19:17:53\", \"2015-04-22T19:22:53\", \"2015-04-22T19:27:53\", \"2015-04-22T19:32:53\", \"2015-04-22T19:37:53\", \"2015-04-22T19:42:53\", \"2015-04-22T19:47:53\", \"2015-04-22T19:52:53\", \"2015-04-22T19:57:53\", \"2015-04-22T20:02:53\", \"2015-04-22T20:07:53\", \"2015-04-22T20:12:53\", \"2015-04-22T20:17:53\", \"2015-04-22T20:22:53\", \"2015-04-22T20:27:53\", \"2015-04-22T20:32:53\", \"2015-04-22T20:37:53\", \"2015-04-22T20:42:53\", \"2015-04-22T20:47:53\", \"2015-04-22T20:52:53\", \"2015-04-22T20:57:53\", \"2015-04-22T21:02:53\", \"2015-04-22T21:07:53\", \"2015-04-22T21:12:53\", \"2015-04-22T21:17:53\", \"2015-04-22T21:22:53\", \"2015-04-22T21:27:53\", \"2015-04-22T21:32:53\", \"2015-04-22T21:37:53\", \"2015-04-22T21:42:53\", \"2015-04-22T21:47:53\"], \"y\": [32, 39, 22, 41, 22, 23, 37, 23, 34, 29, 23, 28, 30, 21, 28, 18, 10, 24, 21, 26, 21, 22, 37, 29, 26, 28, 25, 19, 26, 26, 18, 16, 26, 24, 29, 40, 28, 39, 26, 35, 24, 31, 26, 28, 28, 30, 41, 31, 28, 23, 32, 23, 30, 18, 40, 21, 26, 30, 27, 29, 34, 31, 39, 39, 31, 37, 30, 29, 24, 36, 38, 41, 27, 21, 33, 36, 33, 44, 37, 26, 31, 50, 45, 131, 127, 39, 30, 42, 38, 40, 36, 58, 31, 47, 46, 35, 47, 53, 57, 51, 42, 42, 48, 39, 38, 62, 134, 30, 31, 54, 29, 116, 59, 65, 69, 68, 42, 65, 72, 73, 72, 62, 56, 71, 67, 55, 148, 127, 88, 107, 73, 73, 73, 83, 62, 59, 43, 55, 66, 45, 48, 65, 36, 53, 53, 65, 64, 77, 74, 67, 85, 89, 89, 87, 139, 111, 106, 77, 98, 107, 94, 87, 64, 71, 98, 102, 68, 59, 58, 50, 61, 70, 60, 60, 61, 52, 51, 67, 106, 86, 61, 62, 54, 54, 57, 58, 65, 59, 52, 50, 61, 56, 59, 57, 62, 58, 50, 32, 72, 72]}],\n",
       "                        {\"template\": {\"data\": {\"bar\": [{\"error_x\": {\"color\": \"#2a3f5f\"}, \"error_y\": {\"color\": \"#2a3f5f\"}, \"marker\": {\"line\": {\"color\": \"#E5ECF6\", \"width\": 0.5}}, \"type\": \"bar\"}], \"barpolar\": [{\"marker\": {\"line\": {\"color\": \"#E5ECF6\", \"width\": 0.5}}, \"type\": \"barpolar\"}], \"carpet\": [{\"aaxis\": {\"endlinecolor\": \"#2a3f5f\", \"gridcolor\": \"white\", \"linecolor\": \"white\", \"minorgridcolor\": \"white\", \"startlinecolor\": \"#2a3f5f\"}, \"baxis\": {\"endlinecolor\": \"#2a3f5f\", \"gridcolor\": \"white\", \"linecolor\": \"white\", \"minorgridcolor\": \"white\", \"startlinecolor\": \"#2a3f5f\"}, \"type\": \"carpet\"}], \"choropleth\": [{\"colorbar\": {\"outlinewidth\": 0, \"ticks\": \"\"}, \"type\": \"choropleth\"}], \"contour\": [{\"colorbar\": {\"outlinewidth\": 0, \"ticks\": \"\"}, \"colorscale\": [[0.0, \"#0d0887\"], [0.1111111111111111, \"#46039f\"], [0.2222222222222222, \"#7201a8\"], [0.3333333333333333, \"#9c179e\"], [0.4444444444444444, \"#bd3786\"], [0.5555555555555556, \"#d8576b\"], [0.6666666666666666, \"#ed7953\"], [0.7777777777777778, \"#fb9f3a\"], [0.8888888888888888, \"#fdca26\"], [1.0, \"#f0f921\"]], \"type\": \"contour\"}], \"contourcarpet\": [{\"colorbar\": {\"outlinewidth\": 0, \"ticks\": \"\"}, \"type\": \"contourcarpet\"}], \"heatmap\": [{\"colorbar\": {\"outlinewidth\": 0, \"ticks\": \"\"}, \"colorscale\": [[0.0, \"#0d0887\"], [0.1111111111111111, \"#46039f\"], [0.2222222222222222, \"#7201a8\"], [0.3333333333333333, \"#9c179e\"], [0.4444444444444444, \"#bd3786\"], [0.5555555555555556, \"#d8576b\"], [0.6666666666666666, \"#ed7953\"], [0.7777777777777778, \"#fb9f3a\"], [0.8888888888888888, \"#fdca26\"], [1.0, \"#f0f921\"]], \"type\": \"heatmap\"}], \"heatmapgl\": [{\"colorbar\": {\"outlinewidth\": 0, \"ticks\": \"\"}, \"colorscale\": [[0.0, \"#0d0887\"], [0.1111111111111111, \"#46039f\"], [0.2222222222222222, \"#7201a8\"], [0.3333333333333333, \"#9c179e\"], [0.4444444444444444, \"#bd3786\"], [0.5555555555555556, \"#d8576b\"], [0.6666666666666666, \"#ed7953\"], [0.7777777777777778, \"#fb9f3a\"], [0.8888888888888888, \"#fdca26\"], [1.0, \"#f0f921\"]], \"type\": \"heatmapgl\"}], \"histogram\": [{\"marker\": {\"colorbar\": {\"outlinewidth\": 0, \"ticks\": \"\"}}, \"type\": \"histogram\"}], \"histogram2d\": [{\"colorbar\": {\"outlinewidth\": 0, \"ticks\": \"\"}, \"colorscale\": [[0.0, \"#0d0887\"], [0.1111111111111111, \"#46039f\"], [0.2222222222222222, \"#7201a8\"], [0.3333333333333333, \"#9c179e\"], [0.4444444444444444, \"#bd3786\"], [0.5555555555555556, \"#d8576b\"], [0.6666666666666666, \"#ed7953\"], [0.7777777777777778, \"#fb9f3a\"], [0.8888888888888888, \"#fdca26\"], [1.0, \"#f0f921\"]], \"type\": \"histogram2d\"}], \"histogram2dcontour\": [{\"colorbar\": {\"outlinewidth\": 0, \"ticks\": \"\"}, \"colorscale\": [[0.0, \"#0d0887\"], [0.1111111111111111, \"#46039f\"], [0.2222222222222222, \"#7201a8\"], [0.3333333333333333, \"#9c179e\"], [0.4444444444444444, \"#bd3786\"], [0.5555555555555556, \"#d8576b\"], [0.6666666666666666, \"#ed7953\"], [0.7777777777777778, \"#fb9f3a\"], [0.8888888888888888, \"#fdca26\"], [1.0, \"#f0f921\"]], \"type\": \"histogram2dcontour\"}], \"mesh3d\": [{\"colorbar\": {\"outlinewidth\": 0, \"ticks\": \"\"}, \"type\": \"mesh3d\"}], \"parcoords\": [{\"line\": {\"colorbar\": {\"outlinewidth\": 0, \"ticks\": \"\"}}, \"type\": \"parcoords\"}], \"scatter\": [{\"marker\": {\"colorbar\": {\"outlinewidth\": 0, \"ticks\": \"\"}}, \"type\": \"scatter\"}], \"scatter3d\": [{\"line\": {\"colorbar\": {\"outlinewidth\": 0, \"ticks\": \"\"}}, \"marker\": {\"colorbar\": {\"outlinewidth\": 0, \"ticks\": \"\"}}, \"type\": \"scatter3d\"}], \"scattercarpet\": [{\"marker\": {\"colorbar\": {\"outlinewidth\": 0, \"ticks\": \"\"}}, \"type\": \"scattercarpet\"}], \"scattergeo\": [{\"marker\": {\"colorbar\": {\"outlinewidth\": 0, \"ticks\": \"\"}}, \"type\": \"scattergeo\"}], \"scattergl\": [{\"marker\": {\"colorbar\": {\"outlinewidth\": 0, \"ticks\": \"\"}}, \"type\": \"scattergl\"}], \"scattermapbox\": [{\"marker\": {\"colorbar\": {\"outlinewidth\": 0, \"ticks\": \"\"}}, \"type\": \"scattermapbox\"}], \"scatterpolar\": [{\"marker\": {\"colorbar\": {\"outlinewidth\": 0, \"ticks\": \"\"}}, \"type\": \"scatterpolar\"}], \"scatterpolargl\": [{\"marker\": {\"colorbar\": {\"outlinewidth\": 0, \"ticks\": \"\"}}, \"type\": \"scatterpolargl\"}], \"scatterternary\": [{\"marker\": {\"colorbar\": {\"outlinewidth\": 0, \"ticks\": \"\"}}, \"type\": \"scatterternary\"}], \"surface\": [{\"colorbar\": {\"outlinewidth\": 0, \"ticks\": \"\"}, \"colorscale\": [[0.0, \"#0d0887\"], [0.1111111111111111, \"#46039f\"], [0.2222222222222222, \"#7201a8\"], [0.3333333333333333, \"#9c179e\"], [0.4444444444444444, \"#bd3786\"], [0.5555555555555556, \"#d8576b\"], [0.6666666666666666, \"#ed7953\"], [0.7777777777777778, \"#fb9f3a\"], [0.8888888888888888, \"#fdca26\"], [1.0, \"#f0f921\"]], \"type\": \"surface\"}], \"table\": [{\"cells\": {\"fill\": {\"color\": \"#EBF0F8\"}, \"line\": {\"color\": \"white\"}}, \"header\": {\"fill\": {\"color\": \"#C8D4E3\"}, \"line\": {\"color\": \"white\"}}, \"type\": \"table\"}]}, \"layout\": {\"annotationdefaults\": {\"arrowcolor\": \"#2a3f5f\", \"arrowhead\": 0, \"arrowwidth\": 1}, \"colorscale\": {\"diverging\": [[0, \"#8e0152\"], [0.1, \"#c51b7d\"], [0.2, \"#de77ae\"], [0.3, \"#f1b6da\"], [0.4, \"#fde0ef\"], [0.5, \"#f7f7f7\"], [0.6, \"#e6f5d0\"], [0.7, \"#b8e186\"], [0.8, \"#7fbc41\"], [0.9, \"#4d9221\"], [1, \"#276419\"]], \"sequential\": [[0.0, \"#0d0887\"], [0.1111111111111111, \"#46039f\"], [0.2222222222222222, \"#7201a8\"], [0.3333333333333333, \"#9c179e\"], [0.4444444444444444, \"#bd3786\"], [0.5555555555555556, \"#d8576b\"], [0.6666666666666666, \"#ed7953\"], [0.7777777777777778, \"#fb9f3a\"], [0.8888888888888888, \"#fdca26\"], [1.0, \"#f0f921\"]], \"sequentialminus\": [[0.0, \"#0d0887\"], [0.1111111111111111, \"#46039f\"], [0.2222222222222222, \"#7201a8\"], [0.3333333333333333, \"#9c179e\"], [0.4444444444444444, \"#bd3786\"], [0.5555555555555556, \"#d8576b\"], [0.6666666666666666, \"#ed7953\"], [0.7777777777777778, \"#fb9f3a\"], [0.8888888888888888, \"#fdca26\"], [1.0, \"#f0f921\"]]}, \"colorway\": [\"#636efa\", \"#EF553B\", \"#00cc96\", \"#ab63fa\", \"#FFA15A\", \"#19d3f3\", \"#FF6692\", \"#B6E880\", \"#FF97FF\", \"#FECB52\"], \"font\": {\"color\": \"#2a3f5f\"}, \"geo\": {\"bgcolor\": \"white\", \"lakecolor\": \"white\", \"landcolor\": \"#E5ECF6\", \"showlakes\": true, \"showland\": true, \"subunitcolor\": \"white\"}, \"hoverlabel\": {\"align\": \"left\"}, \"hovermode\": \"closest\", \"mapbox\": {\"style\": \"light\"}, \"paper_bgcolor\": \"white\", \"plot_bgcolor\": \"#E5ECF6\", \"polar\": {\"angularaxis\": {\"gridcolor\": \"white\", \"linecolor\": \"white\", \"ticks\": \"\"}, \"bgcolor\": \"#E5ECF6\", \"radialaxis\": {\"gridcolor\": \"white\", \"linecolor\": \"white\", \"ticks\": \"\"}}, \"scene\": {\"xaxis\": {\"backgroundcolor\": \"#E5ECF6\", \"gridcolor\": \"white\", \"gridwidth\": 2, \"linecolor\": \"white\", \"showbackground\": true, \"ticks\": \"\", \"zerolinecolor\": \"white\"}, \"yaxis\": {\"backgroundcolor\": \"#E5ECF6\", \"gridcolor\": \"white\", \"gridwidth\": 2, \"linecolor\": \"white\", \"showbackground\": true, \"ticks\": \"\", \"zerolinecolor\": \"white\"}, \"zaxis\": {\"backgroundcolor\": \"#E5ECF6\", \"gridcolor\": \"white\", \"gridwidth\": 2, \"linecolor\": \"white\", \"showbackground\": true, \"ticks\": \"\", \"zerolinecolor\": \"white\"}}, \"shapedefaults\": {\"line\": {\"color\": \"#2a3f5f\"}}, \"ternary\": {\"aaxis\": {\"gridcolor\": \"white\", \"linecolor\": \"white\", \"ticks\": \"\"}, \"baxis\": {\"gridcolor\": \"white\", \"linecolor\": \"white\", \"ticks\": \"\"}, \"bgcolor\": \"#E5ECF6\", \"caxis\": {\"gridcolor\": \"white\", \"linecolor\": \"white\", \"ticks\": \"\"}}, \"title\": {\"x\": 0.05}, \"xaxis\": {\"automargin\": true, \"gridcolor\": \"white\", \"linecolor\": \"white\", \"ticks\": \"\", \"zerolinecolor\": \"white\", \"zerolinewidth\": 2}, \"yaxis\": {\"automargin\": true, \"gridcolor\": \"white\", \"linecolor\": \"white\", \"ticks\": \"\", \"zerolinecolor\": \"white\", \"zerolinewidth\": 2}}}},\n",
       "                        {\"displaylogo\": false, \"responsive\": true}\n",
       "                    ).then(function(){\n",
       "                            \n",
       "var gd = document.getElementById('071d7da5-5b49-4bb0-b52b-0ea92c28b294');\n",
       "var x = new MutationObserver(function (mutations, observer) {{\n",
       "        var display = window.getComputedStyle(gd).display;\n",
       "        if (!display || display === 'none') {{\n",
       "            console.log([gd, 'removed!']);\n",
       "            Plotly.purge(gd);\n",
       "            observer.disconnect();\n",
       "        }}\n",
       "}});\n",
       "\n",
       "// Listen for the removal of the full notebook cells\n",
       "var notebookContainer = gd.closest('#notebook-container');\n",
       "if (notebookContainer) {{\n",
       "    x.observe(notebookContainer, {childList: true});\n",
       "}}\n",
       "\n",
       "// Listen for the clearing of the current output cell\n",
       "var outputEl = gd.closest('.output');\n",
       "if (outputEl) {{\n",
       "    x.observe(outputEl, {childList: true});\n",
       "}}\n",
       "\n",
       "                        })\n",
       "                };\n",
       "                });\n",
       "            </script>\n",
       "        </div>"
      ]
     },
     "metadata": {},
     "output_type": "display_data"
    }
   ],
   "source": [
    "import plotly.graph_objects as go\n",
    "fig = go.Figure()\n",
    "fig.add_trace(go.Scatter(\n",
    "        x=df.tail(200).index, \n",
    "        y=df.tail(200).value,\n",
    "        mode='lines'\n",
    "))\n",
    "fig.show(config={'displaylogo':False})"
   ]
  },
  {
   "cell_type": "markdown",
   "metadata": {
    "slideshow": {
     "slide_type": "subslide"
    }
   },
   "source": []
  },
  {
   "cell_type": "code",
   "execution_count": null,
   "metadata": {},
   "outputs": [],
   "source": []
  }
 ],
 "metadata": {
  "celltoolbar": "Slideshow",
  "kernelspec": {
   "display_name": "Python 3",
   "language": "python",
   "name": "python3"
  },
  "language_info": {
   "codemirror_mode": {
    "name": "ipython",
    "version": 3
   },
   "file_extension": ".py",
   "mimetype": "text/x-python",
   "name": "python",
   "nbconvert_exporter": "python",
   "pygments_lexer": "ipython3",
   "version": "3.7.3"
  }
 },
 "nbformat": 4,
 "nbformat_minor": 2
}
